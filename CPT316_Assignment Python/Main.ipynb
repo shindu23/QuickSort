{
 "cells": [
  {
   "cell_type": "code",
   "execution_count": 2,
   "id": "49720eb7",
   "metadata": {},
   "outputs": [
    {
     "name": "stdout",
     "output_type": "stream",
     "text": [
      "This program took  60725.21209716797 microseconds to exceute.\n",
      "The total memory allocated is 62.36 MB \n"
     ]
    }
   ],
   "source": [
    "# Python program for implementation of Quicksort for String Sorting of a File.\n",
    "# In this implementation, pivot is used as the last element in the string list.\n",
    "# It has a pointer that keeps track of elements that are smaller than the pivot.\n",
    "# The pointer is swapped with the pivot at the end of the partition() function \n",
    "# To produce a sorted string list relative to the pivot.\n",
    "\n",
    "# Importing time module to work with time-related function\n",
    "import time\n",
    "# Importing psutil to access system details and process utilities\n",
    "import psutil\n",
    "\n",
    "# Read the file that contains the strings\n",
    "words_file = open(\"sgb-words.txt\", \"r\")\n",
    "words = words_file.readlines()\n",
    "words_file.close()\n",
    "\n",
    "# Function to determine the partition position\n",
    "def partition(array, start, end):\n",
    "    # Select the rightmost element as pivot\n",
    "    pivot = array[end]\n",
    "    # Pointer for larger element\n",
    "    i = start-1\n",
    "    \n",
    "    # Traverse through all elements\n",
    "    # Use pivot to compare each element\n",
    "    for j in range(start, end):\n",
    "        if array[j] <= pivot:\n",
    "            # If element smaller than pivot is found\n",
    "            # Swap it with the larger element pointed by i\n",
    "            i = i+1\n",
    "            # Swapping element at i with element at j\n",
    "            (array[i], array[j]) = (array[j], array[i])\n",
    "    # Swap the pivot element with the larger element indicated by i      \n",
    "    (array[i + 1], array[end]) = (array[end], array[i + 1])\n",
    "    # Return the position from which the partition is completed\n",
    "    return i+1\n",
    "\n",
    "# Function to perform quickSort\n",
    "def quickSort(array, start, end):\n",
    "    if start<end:\n",
    "        \n",
    "        # Finding the pivot element such that\n",
    "        # Element smaller than pivot are on the left\n",
    "        # Element larger than pivot are on the right\n",
    "        split = partition(array, start, end)\n",
    "        # Recursive call on the left of the pivot\n",
    "        quickSort(array, start, split-1)\n",
    "        # Recursive call on the right of the pivot\n",
    "        quickSort(array, split+1, end)\n",
    "\n",
    "# Compute the size of string in file to use in sorting execution       \n",
    "size = len(words)\n",
    "# Set the starting time for the execution of the quickSort algorithm\n",
    "start_time = time.time()\n",
    "quickSort(words, 0, size-1)\n",
    "# Set the ending time for the execution of the quickSort algorithm\n",
    "end_time = time.time()\n",
    "\n",
    "# Write all the sorted strings to a textfile\n",
    "file = open(\"quickSortResults.txt\", \"w\")  # write mode\n",
    "for i in words:\n",
    "    file.write(i)\n",
    "file.close()\n",
    "\n",
    "# Calculate total execution time and display it\n",
    "print(\"This program took \", (end_time-start_time)*1000000, \"microseconds to exceute.\")\n",
    "print(\"The total memory allocated is %.2f MB \" % (psutil.Process().memory_info().rss / (1024 * 1024)))\n"
   ]
  }
 ],
 "metadata": {
  "kernelspec": {
   "display_name": "Python 3 (ipykernel)",
   "language": "python",
   "name": "python3"
  },
  "language_info": {
   "codemirror_mode": {
    "name": "ipython",
    "version": 3
   },
   "file_extension": ".py",
   "mimetype": "text/x-python",
   "name": "python",
   "nbconvert_exporter": "python",
   "pygments_lexer": "ipython3",
   "version": "3.9.7"
  }
 },
 "nbformat": 4,
 "nbformat_minor": 5
}
